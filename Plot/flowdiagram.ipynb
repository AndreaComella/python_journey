{
 "cells": [
  {
   "cell_type": "code",
   "execution_count": 1,
   "metadata": {},
   "outputs": [],
   "source": [
    "import pydot #interface to grapphViz\n",
    "#Information on Dot language at https://www.graphviz.org/doc/info/lang.html\n",
    "import networkx as nx #graph can interchange with pydot\n",
    "#Graphviz package requires a seperate install of the Graphviz software from http://graphviz.org\n",
    "#after you install Graphviz, you need to manually update PATH variable to add: C:\\Program Files (x86)\\Graphviz\\bin\n",
    "from graphviz import Digraph"
   ]
  },
  {
   "cell_type": "code",
   "execution_count": 11,
   "metadata": {},
   "outputs": [],
   "source": [
    "# a simple example\n",
    "graph = pydot.Dot(graph_type = 'digraph')\n",
    "#set up node text\n",
    "#list of available shape at https://www.graphviz.org/doc/info/shapes.html\n",
    "node_a = pydot.Node(\"EEG\", style=\"filled\", shape=\"box\",fillcolor=\"red\") #default isellipse\n",
    "node_b = pydot.Node(\"export csv\", style=\"filled\", shape=\"diamond\",fillcolor=\"green\")\n",
    "node_c = pydot.Node(\"sLORETA\", style=\"filled\", shape=\"polygon\",fillcolor=\"yellow\")\n",
    "node_d = pydot.Node(\"MRI\", style=\"filled\", shape=\"pentagon\",fillcolor=\"blue\")\n",
    "node_e = pydot.Node(\"segmentation\", style=\"filled\", fillcolor=\"red\")\n",
    "node_f = pydot.Node(\"registration MNI 152\", style=\"filled\", shape=\"egg\",fillcolor=\"green\")\n",
    "node_g = pydot.Node(\"Merge\", style=\"filled\", shape=\"rect\",fillcolor=\"yellow\")\n",
    "\n",
    "#set up nodes\n",
    "graph.add_node(node_a)\n",
    "graph.add_node(node_b)\n",
    "graph.add_node(node_c)\n",
    "graph.add_node(node_d)\n",
    "graph.add_node(node_e)\n",
    "graph.add_node(node_f)\n",
    "graph.add_node(node_g)\n",
    "\n",
    "#connect nodes EEG\n",
    "graph.add_edge(pydot.Edge(node_a, node_b))\n",
    "graph.add_edge(pydot.Edge(node_b, node_c))\n",
    "graph.add_edge(pydot.Edge(node_c, node_g))\n",
    "\n",
    "#connect nodes MRI\n",
    "graph.add_edge(pydot.Edge(node_d, node_e))\n",
    "graph.add_edge(pydot.Edge(node_e, node_f))\n",
    "graph.add_edge(pydot.Edge(node_f, node_g))"
   ]
  },
  {
   "cell_type": "code",
   "execution_count": 12,
   "metadata": {},
   "outputs": [],
   "source": [
    "#export as png\n",
    "graph.write_png('EEGsourcelocalisation.png')"
   ]
  }
 ],
 "metadata": {
  "kernelspec": {
   "display_name": "Python 3",
   "language": "python",
   "name": "python3"
  },
  "language_info": {
   "codemirror_mode": {
    "name": "ipython",
    "version": 3
   },
   "file_extension": ".py",
   "mimetype": "text/x-python",
   "name": "python",
   "nbconvert_exporter": "python",
   "pygments_lexer": "ipython3",
   "version": "3.7.3"
  }
 },
 "nbformat": 4,
 "nbformat_minor": 2
}
