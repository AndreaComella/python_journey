{
 "cells": [
  {
   "cell_type": "code",
   "execution_count": 1,
   "metadata": {},
   "outputs": [
    {
     "name": "stderr",
     "output_type": "stream",
     "text": [
      "Unable to open EPSG support file gcs.csv.  Try setting the GDAL_DATA environment variable to point to the directory containing EPSG csv files.\n"
     ]
    }
   ],
   "source": [
    "from time import time\n",
    "import pandas as pd\n",
    "import numpy as np\n",
    "import statsmodels.api as sm\n",
    "from statsmodels.stats.outliers_influence import variance_inflation_factor\n",
    "\n",
    "#plotting library\n",
    "import matplotlib.pyplot as plt \n",
    "from matplotlib import offsetbox\n",
    "from plotnine import *\n",
    "import seaborn as sn \n",
    "\n",
    "#manifold\n",
    "from sklearn import (manifold,datasets, decomposition, ensemble,\n",
    "             discriminant_analysis, random_projection)\n",
    "from sklearn.manifold import TSNE\n",
    "from mpl_toolkits.mplot3d import Axes3D\n",
    "from sklearn.decomposition import PCA\n",
    "from sklearn.preprocessing import StandardScaler\n",
    "\n",
    "#random forest classifier \n",
    "from sklearn.model_selection import train_test_split\n",
    "from sklearn.ensemble import RandomForestClassifier\n",
    "from sklearn import metrics\n",
    "from scipy.stats import spearmanr\n",
    "from scipy.cluster import hierarchy\n",
    "from sklearn.inspection import permutation_importance\n",
    "\n",
    "#create GUI\n",
    "import tkinter as tk"
   ]
  },
  {
   "cell_type": "markdown",
   "metadata": {
    "collapsed": true
   },
   "source": [
    "import csv\n",
    "import numpy as np\n",
    "import pandas as pd\n",
    "import matplotlib.pyplot as mp\n",
    "import statsmodels.api as sm"
   ]
  },
  {
   "cell_type": "code",
   "execution_count": 2,
   "metadata": {
    "scrolled": true
   },
   "outputs": [
    {
     "data": {
      "text/html": [
       "<div>\n",
       "<style scoped>\n",
       "    .dataframe tbody tr th:only-of-type {\n",
       "        vertical-align: middle;\n",
       "    }\n",
       "\n",
       "    .dataframe tbody tr th {\n",
       "        vertical-align: top;\n",
       "    }\n",
       "\n",
       "    .dataframe thead th {\n",
       "        text-align: right;\n",
       "    }\n",
       "</style>\n",
       "<table border=\"1\" class=\"dataframe\">\n",
       "  <thead>\n",
       "    <tr style=\"text-align: right;\">\n",
       "      <th></th>\n",
       "      <th>DOS</th>\n",
       "      <th>gender</th>\n",
       "      <th>Age</th>\n",
       "      <th>ST6</th>\n",
       "      <th>R0_bin</th>\n",
       "      <th>R0</th>\n",
       "      <th>Rankin90</th>\n",
       "      <th>R3_binary</th>\n",
       "      <th>#attempts</th>\n",
       "      <th>final_outcome</th>\n",
       "      <th>...</th>\n",
       "      <th>7LA90</th>\n",
       "      <th>8RA90</th>\n",
       "      <th>9LL90</th>\n",
       "      <th>10RL90</th>\n",
       "      <th>Ataxia90</th>\n",
       "      <th>Sensory90</th>\n",
       "      <th>13Aph90</th>\n",
       "      <th>Dysarthria90</th>\n",
       "      <th>Extinction90</th>\n",
       "      <th>NIHSS90</th>\n",
       "    </tr>\n",
       "  </thead>\n",
       "  <tbody>\n",
       "    <tr>\n",
       "      <th>0</th>\n",
       "      <td>11/11/2006</td>\n",
       "      <td>1</td>\n",
       "      <td>60</td>\n",
       "      <td>0</td>\n",
       "      <td>0</td>\n",
       "      <td>4</td>\n",
       "      <td>1</td>\n",
       "      <td>0</td>\n",
       "      <td>1</td>\n",
       "      <td>0</td>\n",
       "      <td>...</td>\n",
       "      <td>1</td>\n",
       "      <td>0</td>\n",
       "      <td>1</td>\n",
       "      <td>0</td>\n",
       "      <td>0</td>\n",
       "      <td>0</td>\n",
       "      <td>0</td>\n",
       "      <td>0</td>\n",
       "      <td>0</td>\n",
       "      <td>2</td>\n",
       "    </tr>\n",
       "    <tr>\n",
       "      <th>1</th>\n",
       "      <td>28/03/2007</td>\n",
       "      <td>1</td>\n",
       "      <td>76</td>\n",
       "      <td>0</td>\n",
       "      <td>1</td>\n",
       "      <td>2</td>\n",
       "      <td>2</td>\n",
       "      <td>0</td>\n",
       "      <td>1</td>\n",
       "      <td>0</td>\n",
       "      <td>...</td>\n",
       "      <td>1</td>\n",
       "      <td>0</td>\n",
       "      <td>1</td>\n",
       "      <td>0</td>\n",
       "      <td>1</td>\n",
       "      <td>1</td>\n",
       "      <td>0</td>\n",
       "      <td>0</td>\n",
       "      <td>0</td>\n",
       "      <td>4</td>\n",
       "    </tr>\n",
       "    <tr>\n",
       "      <th>2</th>\n",
       "      <td>29/07/2007</td>\n",
       "      <td>1</td>\n",
       "      <td>83</td>\n",
       "      <td>0</td>\n",
       "      <td>1</td>\n",
       "      <td>1</td>\n",
       "      <td>0</td>\n",
       "      <td>0</td>\n",
       "      <td>1</td>\n",
       "      <td>0</td>\n",
       "      <td>...</td>\n",
       "      <td>0</td>\n",
       "      <td>0</td>\n",
       "      <td>0</td>\n",
       "      <td>0</td>\n",
       "      <td>0</td>\n",
       "      <td>0</td>\n",
       "      <td>0</td>\n",
       "      <td>0</td>\n",
       "      <td>0</td>\n",
       "      <td>0</td>\n",
       "    </tr>\n",
       "    <tr>\n",
       "      <th>3</th>\n",
       "      <td>1/09/2007</td>\n",
       "      <td>1</td>\n",
       "      <td>56</td>\n",
       "      <td>0</td>\n",
       "      <td>0</td>\n",
       "      <td>4</td>\n",
       "      <td>1</td>\n",
       "      <td>0</td>\n",
       "      <td>1</td>\n",
       "      <td>0</td>\n",
       "      <td>...</td>\n",
       "      <td>0</td>\n",
       "      <td>0</td>\n",
       "      <td>0</td>\n",
       "      <td>0</td>\n",
       "      <td>0</td>\n",
       "      <td>0</td>\n",
       "      <td>0</td>\n",
       "      <td>1</td>\n",
       "      <td>0</td>\n",
       "      <td>2</td>\n",
       "    </tr>\n",
       "    <tr>\n",
       "      <th>4</th>\n",
       "      <td>16/03/2010</td>\n",
       "      <td>1</td>\n",
       "      <td>60</td>\n",
       "      <td>0</td>\n",
       "      <td>0</td>\n",
       "      <td>3</td>\n",
       "      <td>2</td>\n",
       "      <td>0</td>\n",
       "      <td>1</td>\n",
       "      <td>0</td>\n",
       "      <td>...</td>\n",
       "      <td>1</td>\n",
       "      <td>0</td>\n",
       "      <td>1</td>\n",
       "      <td>0</td>\n",
       "      <td>0</td>\n",
       "      <td>0</td>\n",
       "      <td>0</td>\n",
       "      <td>0</td>\n",
       "      <td>0</td>\n",
       "      <td>3</td>\n",
       "    </tr>\n",
       "  </tbody>\n",
       "</table>\n",
       "<p>5 rows × 130 columns</p>\n",
       "</div>"
      ],
      "text/plain": [
       "          DOS  gender  Age  ST6  R0_bin  R0  Rankin90  R3_binary  #attempts  \\\n",
       "0  11/11/2006       1   60    0       0   4         1          0          1   \n",
       "1  28/03/2007       1   76    0       1   2         2          0          1   \n",
       "2  29/07/2007       1   83    0       1   1         0          0          1   \n",
       "3   1/09/2007       1   56    0       0   4         1          0          1   \n",
       "4  16/03/2010       1   60    0       0   3         2          0          1   \n",
       "\n",
       "   final_outcome  ...  7LA90 8RA90  9LL90  10RL90  Ataxia90  Sensory90  \\\n",
       "0              0  ...      1     0      1       0         0          0   \n",
       "1              0  ...      1     0      1       0         1          1   \n",
       "2              0  ...      0     0      0       0         0          0   \n",
       "3              0  ...      0     0      0       0         0          0   \n",
       "4              0  ...      1     0      1       0         0          0   \n",
       "\n",
       "   13Aph90  Dysarthria90  Extinction90  NIHSS90  \n",
       "0        0             0             0        2  \n",
       "1        0             0             0        4  \n",
       "2        0             0             0        0  \n",
       "3        0             1             0        2  \n",
       "4        0             0             0        3  \n",
       "\n",
       "[5 rows x 130 columns]"
      ]
     },
     "execution_count": 2,
     "metadata": {},
     "output_type": "execute_result"
    }
   ],
   "source": [
    "#the file contains uncleaned data in the form of columns starting with a number\n",
    "#neither python nor R handle these columns cleanly\n",
    "#examples are 13Aph and 13Aph90\n",
    "#python can handle these columns as numeric but cannot convert them to factor\n",
    "#renaming the columns do not seem to work eg data.rename(columns={'13Aph':'Aphasia'},inplace=TRUE)\n",
    "#these are best handle using the iloc methd to relabel the columns\n",
    "\n",
    "data=pd.read_csv('CSV2 - For binaries160817.csv')\n",
    "#check column headers\n",
    "data.head()\n"
   ]
  },
  {
   "cell_type": "code",
   "execution_count": 3,
   "metadata": {},
   "outputs": [
    {
     "data": {
      "text/plain": [
       "DOS             0\n",
       "gender          0\n",
       "Age             0\n",
       "ST6             0\n",
       "R0_bin          0\n",
       "               ..\n",
       "Sensory90       0\n",
       "13Aph90         0\n",
       "Dysarthria90    0\n",
       "Extinction90    0\n",
       "NIHSS90         0\n",
       "Length: 130, dtype: int64"
      ]
     },
     "execution_count": 3,
     "metadata": {},
     "output_type": "execute_result"
    }
   ],
   "source": [
    "data.isnull().sum()"
   ]
  },
  {
   "cell_type": "code",
   "execution_count": 4,
   "metadata": {},
   "outputs": [
    {
     "data": {
      "text/plain": [
       "['DOS',\n",
       " 'gender',\n",
       " 'Age',\n",
       " 'ST6',\n",
       " 'R0_bin',\n",
       " 'R0',\n",
       " 'Rankin90',\n",
       " 'R3_binary',\n",
       " '#attempts',\n",
       " 'final_outcome',\n",
       " 'time_pass',\n",
       " 'date_outcome',\n",
       " 'time_outcome',\n",
       " 'LOC_bin',\n",
       " '1LOC',\n",
       " 'q_bin',\n",
       " '2Q',\n",
       " 'con_bin',\n",
       " '3C',\n",
       " 'Gaze_bin',\n",
       " '4Gaze',\n",
       " 'Vis_binary',\n",
       " 'Visualfield',\n",
       " 'face_bin',\n",
       " '6F',\n",
       " 'LA_bin',\n",
       " '7LA',\n",
       " 'RA_bin',\n",
       " '8RA',\n",
       " 'LL_bin',\n",
       " '9LL',\n",
       " 'RL_bin',\n",
       " '10RL',\n",
       " 'Atax_bin',\n",
       " 'Ataxia',\n",
       " 'sens_bin',\n",
       " 'Sensory',\n",
       " '13Aph',\n",
       " 'dysarth_bin',\n",
       " 'Dysarthria',\n",
       " 'Extinction',\n",
       " 'NIHSS',\n",
       " 'Ext_binary',\n",
       " 'Aph_bin',\n",
       " 'CVA',\n",
       " 'IHD',\n",
       " 'AF',\n",
       " 'Diabetes',\n",
       " 'etOH',\n",
       " 'Smoker',\n",
       " 'HTN',\n",
       " 'Lipid',\n",
       " 'dateoffroad',\n",
       " 'lesson completed',\n",
       " 'date_first_attempt',\n",
       " 'first_outcome',\n",
       " 'date_second_attempt',\n",
       " 'second_outcome',\n",
       " 'third_outcome',\n",
       " 'fourth_outcome',\n",
       " 'ROAD LAW %',\n",
       " 'car type',\n",
       " 'social',\n",
       " 'eye_acuityR',\n",
       " 'eye_acuity L',\n",
       " 'eye_binocular',\n",
       " 'Rmotor',\n",
       " 'Lmotor',\n",
       " 'R hip 1-in 0-im',\n",
       " 'R knee',\n",
       " 'R ankle D',\n",
       " 'R ankle P',\n",
       " 'L hip',\n",
       " 'L knee',\n",
       " 'L ankle D',\n",
       " 'L ankle P',\n",
       " 'E2.1',\n",
       " 'E2.2',\n",
       " 'E2.3',\n",
       " 'E2.4',\n",
       " 'E2.5',\n",
       " 'E2.6',\n",
       " 'E2.7',\n",
       " 'E2.8',\n",
       " 'E2.9',\n",
       " 'E2.10',\n",
       " 'E2.11',\n",
       " 'E2.12',\n",
       " 'E2.13',\n",
       " 'E2.14',\n",
       " 'E2sum',\n",
       " 'E3',\n",
       " 'E4',\n",
       " 'E5',\n",
       " 'handdomin',\n",
       " 'maze',\n",
       " 'MMSE ',\n",
       " 'neglect_circled ',\n",
       " 'L omissions',\n",
       " 'R omissions',\n",
       " 'realisation t0e',\n",
       " 'time',\n",
       " 'reaction1',\n",
       " 'reaction2',\n",
       " 'reaction 3',\n",
       " 'average',\n",
       " 'YEARS EXP',\n",
       " 'timeperiod',\n",
       " 'ID',\n",
       " 'RmotorNIHSS',\n",
       " 'LmotorNIHSS',\n",
       " 'timeperiodpass',\n",
       " 'Unnamed: 112',\n",
       " 'Unnamed: 113',\n",
       " '1LOC90',\n",
       " '2Q90',\n",
       " '3C90',\n",
       " '4Gaze90',\n",
       " 'Visualfield90',\n",
       " '6F90',\n",
       " '7LA90',\n",
       " '8RA90',\n",
       " '9LL90',\n",
       " '10RL90',\n",
       " 'Ataxia90',\n",
       " 'Sensory90',\n",
       " '13Aph90',\n",
       " 'Dysarthria90',\n",
       " 'Extinction90',\n",
       " 'NIHSS90']"
      ]
     },
     "execution_count": 4,
     "metadata": {},
     "output_type": "execute_result"
    }
   ],
   "source": [
    "#list(data.columns)\n",
    "list(data)"
   ]
  },
  {
   "cell_type": "code",
   "execution_count": 5,
   "metadata": {},
   "outputs": [
    {
     "data": {
      "text/plain": [
       "['Age',\n",
       " 'gender',\n",
       " 'time_outcome',\n",
       " '13Aph',\n",
       " 'Extinction',\n",
       " 'Visualfield',\n",
       " '13Aph90',\n",
       " 'Extinction90',\n",
       " 'NIHSS',\n",
       " 'NIHSS90',\n",
       " 'Visualfield90',\n",
       " 'Rankin90',\n",
       " 'final_outcome']"
      ]
     },
     "execution_count": 5,
     "metadata": {},
     "output_type": "execute_result"
    }
   ],
   "source": [
    "#subset\n",
    "data1=data[['Age','gender','time_outcome','13Aph','Extinction','Visualfield','13Aph90','Extinction90','NIHSS','NIHSS90','Visualfield90','Rankin90','final_outcome']]\n",
    "data1.rename(columns={'13Aph':'Aphasia',\n",
    "                     '13Aph90':'Aphasia90'})\n",
    "list(data1)"
   ]
  },
  {
   "cell_type": "code",
   "execution_count": 6,
   "metadata": {},
   "outputs": [
    {
     "data": {
      "text/plain": [
       "['Age',\n",
       " 'gender',\n",
       " 'time_outcome',\n",
       " 'Aphasia',\n",
       " 'Extinction',\n",
       " 'Visualfield',\n",
       " 'Aphasia90',\n",
       " 'Extinction90',\n",
       " 'NIHSS',\n",
       " 'NIHSS90',\n",
       " 'Visualfield90',\n",
       " 'Rankin90',\n",
       " 'final_outcome']"
      ]
     },
     "execution_count": 6,
     "metadata": {},
     "output_type": "execute_result"
    }
   ],
   "source": [
    "#python index start at 0\n",
    "#deal with columns starting with number by index location\n",
    "data1.columns.values[3] = \"Aphasia\"\n",
    "data1.columns.values[6]='Aphasia90'\n",
    "list(data1)"
   ]
  },
  {
   "cell_type": "code",
   "execution_count": 7,
   "metadata": {},
   "outputs": [
    {
     "data": {
      "text/plain": [
       "Age              0\n",
       "gender           0\n",
       "time_outcome     0\n",
       "Aphasia          0\n",
       "Extinction       0\n",
       "Visualfield      0\n",
       "Aphasia90        0\n",
       "Extinction90     0\n",
       "NIHSS            0\n",
       "NIHSS90          0\n",
       "Visualfield90    0\n",
       "Rankin90         0\n",
       "final_outcome    0\n",
       "dtype: int64"
      ]
     },
     "execution_count": 7,
     "metadata": {},
     "output_type": "execute_result"
    }
   ],
   "source": [
    "data1.isnull().sum()"
   ]
  },
  {
   "cell_type": "code",
   "execution_count": 8,
   "metadata": {},
   "outputs": [
    {
     "name": "stdout",
     "output_type": "stream",
     "text": [
      "                                 OLS Regression Results                                \n",
      "=======================================================================================\n",
      "Dep. Variable:                NIHSS90   R-squared (uncentered):                   0.553\n",
      "Model:                            OLS   Adj. R-squared (uncentered):              0.549\n",
      "Method:                 Least Squares   F-statistic:                              123.9\n",
      "Date:                Sun, 05 Jan 2020   Prob (F-statistic):                    3.32e-19\n",
      "Time:                        22:29:48   Log-Likelihood:                         -179.06\n",
      "No. Observations:                 101   AIC:                                      360.1\n",
      "Df Residuals:                     100   BIC:                                      362.7\n",
      "Df Model:                           1                                                  \n",
      "Covariance Type:            nonrobust                                                  \n",
      "==============================================================================\n",
      "                 coef    std err          t      P>|t|      [0.025      0.975]\n",
      "------------------------------------------------------------------------------\n",
      "Age            0.0245      0.002     11.132      0.000       0.020       0.029\n",
      "==============================================================================\n",
      "Omnibus:                        6.327   Durbin-Watson:                   1.985\n",
      "Prob(Omnibus):                  0.042   Jarque-Bera (JB):                3.575\n",
      "Skew:                           0.254   Prob(JB):                        0.167\n",
      "Kurtosis:                       2.231   Cond. No.                         1.00\n",
      "==============================================================================\n",
      "\n",
      "Warnings:\n",
      "[1] Standard Errors assume that the covariance matrix of the errors is correctly specified.\n"
     ]
    }
   ],
   "source": [
    "X=data1['Age']\n",
    "Y=data1['NIHSS90']\n",
    "\n",
    "#X = sm.add_constant(X) # adding a constant\n",
    "\n",
    "model = sm.OLS(Y, X).fit()\n",
    "predictions = model.predict(X) \n",
    "\n",
    "print_model = model.summary()\n",
    "print(print_model)\n",
    "#mp.plot(X,Y)\n"
   ]
  },
  {
   "cell_type": "code",
   "execution_count": 9,
   "metadata": {},
   "outputs": [
    {
     "data": {
      "text/plain": [
       "array([['11/11/2006', 1, 60, ..., 0, 0, 2],\n",
       "       ['28/03/2007', 1, 76, ..., 0, 0, 4],\n",
       "       ['29/07/2007', 1, 83, ..., 0, 0, 0],\n",
       "       ...,\n",
       "       ['30/11/2014', 1, 65, ..., 0, 0, 0],\n",
       "       ['26/11/2014', 1, 71, ..., 0, 0, 2],\n",
       "       ['17/11/2014', 1, 61, ..., 0, 0, 1]], dtype=object)"
      ]
     },
     "execution_count": 9,
     "metadata": {},
     "output_type": "execute_result"
    }
   ],
   "source": [
    "#list column names\n",
    "data.values"
   ]
  },
  {
   "cell_type": "code",
   "execution_count": 10,
   "metadata": {},
   "outputs": [
    {
     "data": {
      "image/png": "[encoded data removed]",
      "text/plain": [
       "<Figure size 640x480 with 1 Axes>"
      ]
     },
     "metadata": {},
     "output_type": "display_data"
    },
    {
     "data": {
      "text/plain": [
       "<ggplot: (100755181404)>"
      ]
     },
     "execution_count": 10,
     "metadata": {},
     "output_type": "execute_result"
    }
   ],
   "source": [
    "(ggplot (data1)\n",
    " + geom_point(aes('Age', 'NIHSS90',color='factor(gender)',shape='factor(Rankin90)'))\n",
    ")+labs(color='Gender',shape='Disability')\n"
   ]
  },
  {
   "cell_type": "code",
   "execution_count": 11,
   "metadata": {},
   "outputs": [
    {
     "data": {
      "image/png": "[encoded data removed]",
      "text/plain": [
       "<Figure size 640x480 with 1 Axes>"
      ]
     },
     "metadata": {},
     "output_type": "display_data"
    },
    {
     "data": {
      "text/plain": [
       "<ggplot: (100755348039)>"
      ]
     },
     "execution_count": 11,
     "metadata": {},
     "output_type": "execute_result"
    }
   ],
   "source": [
    "(ggplot (data1)\n",
    " + geom_point(aes('Age', 'NIHSS90',color='factor(final_outcome)',shape='factor(Rankin90)'))\n",
    ")+labs(color='Pass',shape='Disability')\n"
   ]
  },
  {
   "cell_type": "code",
   "execution_count": 12,
   "metadata": {},
   "outputs": [
    {
     "data": {
      "text/plain": [
       "Age              0\n",
       "gender           0\n",
       "time_outcome     0\n",
       "Aphasia          0\n",
       "Extinction       0\n",
       "Visualfield      0\n",
       "Aphasia90        0\n",
       "Extinction90     0\n",
       "NIHSS            0\n",
       "NIHSS90          0\n",
       "Visualfield90    0\n",
       "Rankin90         0\n",
       "final_outcome    0\n",
       "dtype: int64"
      ]
     },
     "execution_count": 12,
     "metadata": {},
     "output_type": "execute_result"
    }
   ],
   "source": [
    "data1.isnull().sum()"
   ]
  },
  {
   "cell_type": "code",
   "execution_count": 13,
   "metadata": {},
   "outputs": [
    {
     "data": {
      "text/plain": [
       "Age              0\n",
       "gender           0\n",
       "time_outcome     0\n",
       "Aphasia          0\n",
       "Extinction       0\n",
       "Visualfield      0\n",
       "Aphasia90        0\n",
       "Extinction90     0\n",
       "NIHSS            0\n",
       "NIHSS90          0\n",
       "Visualfield90    0\n",
       "Rankin90         0\n",
       "dtype: int64"
      ]
     },
     "execution_count": 13,
     "metadata": {},
     "output_type": "execute_result"
    }
   ],
   "source": [
    "#drop data\n",
    "#X = data1.drop (['final_outcome'],axis=1)\n",
    "\n",
    "#iloc method does not result in NA\n",
    "X=data1.iloc[:,:-1]\n",
    "\n",
    "y = data1['final_outcome']\n",
    "\n",
    "X.isnull().sum()"
   ]
  },
  {
   "cell_type": "code",
   "execution_count": 14,
   "metadata": {},
   "outputs": [],
   "source": [
    "#initialise tsne\n",
    "tsne = TSNE(n_components=2, perplexity=10,random_state=0)\n",
    "#perform tsne\n",
    "tsne_obj= tsne.fit_transform(X)\n",
    "#create data frame from results\n",
    "#first dimension label X\n",
    "#second dimension label Y\n",
    "#outcome variable label Outcome\n",
    "tsne_df = pd.DataFrame({'X':tsne_obj[:,0],\n",
    "                        'Y':tsne_obj[:,1],\n",
    "                        'Pass':y})\n",
    "#merge data frames by columns\n",
    "df = pd.concat([data1,tsne_df],axis=1)\n",
    "\n"
   ]
  },
  {
   "cell_type": "code",
   "execution_count": 15,
   "metadata": {},
   "outputs": [
    {
     "data": {
      "text/plain": [
       "['Age',\n",
       " 'gender',\n",
       " 'time_outcome',\n",
       " 'Aphasia',\n",
       " 'Extinction',\n",
       " 'Visualfield',\n",
       " 'Aphasia90',\n",
       " 'Extinction90',\n",
       " 'NIHSS',\n",
       " 'NIHSS90',\n",
       " 'Visualfield90',\n",
       " 'Rankin90',\n",
       " 'final_outcome',\n",
       " 'X',\n",
       " 'Y',\n",
       " 'Pass']"
      ]
     },
     "execution_count": 15,
     "metadata": {},
     "output_type": "execute_result"
    }
   ],
   "source": [
    "#check data\n",
    "list(df)"
   ]
  },
  {
   "cell_type": "code",
   "execution_count": 16,
   "metadata": {},
   "outputs": [
    {
     "data": {
      "image/png": "[encoded data removed]",
      "text/plain": [
       "<Figure size 640x480 with 1 Axes>"
      ]
     },
     "metadata": {},
     "output_type": "display_data"
    },
    {
     "data": {
      "text/plain": [
       "<ggplot: (100755533730)>"
      ]
     },
     "execution_count": 16,
     "metadata": {},
     "output_type": "execute_result"
    }
   ],
   "source": [
    "#ggplot style\n",
    "#note the use of data merged from tsne output\n",
    "(ggplot (df)\n",
    " + geom_point(aes('X ', 'Y',color='factor(final_outcome)',shape='factor(Rankin90)'))\n",
    ")+labs(color=\"Pass\",shape=\"Disability\")+ggtitle(\"TSNE On-Road Driving after Stroke-Disability\")\n"
   ]
  },
  {
   "cell_type": "code",
   "execution_count": 17,
   "metadata": {},
   "outputs": [
    {
     "data": {
      "image/png": "[encoded data removed]",
      "text/plain": [
       "<Figure size 640x480 with 1 Axes>"
      ]
     },
     "metadata": {},
     "output_type": "display_data"
    },
    {
     "data": {
      "text/plain": [
       "<ggplot: (-9223371936099285167)>"
      ]
     },
     "execution_count": 17,
     "metadata": {},
     "output_type": "execute_result"
    }
   ],
   "source": [
    "#Neglect\n",
    "(ggplot (df)\n",
    " + geom_point(aes('X ', 'Y',color='factor(final_outcome)',shape='factor(Extinction90)'))\n",
    ")+labs(color=\"Pass\",shape=\"Neglect\")+ggtitle(\"TSNE On-Road Driving after Stroke-Neglect\")"
   ]
  },
  {
   "cell_type": "code",
   "execution_count": 18,
   "metadata": {},
   "outputs": [],
   "source": [
    "#save dataframe\n",
    "#data1.to_csv('cleandrivingdf.csv')"
   ]
  },
  {
   "cell_type": "code",
   "execution_count": 19,
   "metadata": {},
   "outputs": [
    {
     "data": {
      "text/plain": [
       "Index(['Age', 'gender', 'time_outcome', 'Aphasia', 'Extinction', 'Visualfield',\n",
       "       'Aphasia90', 'Extinction90', 'NIHSS', 'NIHSS90', 'Visualfield90',\n",
       "       'Rankin90', 'final_outcome'],\n",
       "      dtype='object')"
      ]
     },
     "execution_count": 19,
     "metadata": {},
     "output_type": "execute_result"
    }
   ],
   "source": [
    "data1.columns"
   ]
  },
  {
   "cell_type": "code",
   "execution_count": 20,
   "metadata": {},
   "outputs": [
    {
     "data": {
      "image/png": "[encoded data removed]",
      "text/plain": [
       "<Figure size 432x288 with 2 Axes>"
      ]
     },
     "metadata": {
      "needs_background": "light"
     },
     "output_type": "display_data"
    }
   ],
   "source": [
    "correlations = data1.corr()\n",
    "\n",
    "# plot correlation matrix\n",
    "fig = plt.figure()\n",
    "ax = fig.add_subplot(111)\n",
    "cax = ax.matshow(correlations, vmin=-1, vmax=1)\n",
    "fig.colorbar(cax)\n",
    "ticks = np.arange(0,9,1)\n",
    "ax.set_xticks(ticks)\n",
    "ax.set_yticks(ticks)\n",
    "ax.set_xticklabels(data1.columns)\n",
    "ax.set_yticklabels(data1.columns)\n",
    "plt.show()"
   ]
  },
  {
   "cell_type": "code",
   "execution_count": 21,
   "metadata": {},
   "outputs": [
    {
     "data": {
      "text/plain": [
       "[5.35944065996667,\n",
       " 4.353765302434735,\n",
       " 2.489495003228894,\n",
       " 2.3814448240948356,\n",
       " 1.3276169447546902,\n",
       " 1.5250026005602348,\n",
       " 1.986804244316868,\n",
       " 1.1467458292912902,\n",
       " 5.800498887957341,\n",
       " 4.860954258023375,\n",
       " 1.0845804504633538,\n",
       " 5.420463769805554]"
      ]
     },
     "execution_count": 21,
     "metadata": {},
     "output_type": "execute_result"
    }
   ],
   "source": [
    "# For each Xi, calculate VIF\n",
    "vif = [variance_inflation_factor(X.values, i) for i in range(X.shape[1])]\n",
    "vif"
   ]
  },
  {
   "cell_type": "code",
   "execution_count": 22,
   "metadata": {},
   "outputs": [
    {
     "data": {
      "text/plain": [
       "<matplotlib.axes._subplots.AxesSubplot at 0x177580d39b0>"
      ]
     },
     "execution_count": 22,
     "metadata": {},
     "output_type": "execute_result"
    },
    {
     "data": {
      "image/png": "[encoded data removed]",
      "text/plain": [
       "<Figure size 432x288 with 2 Axes>"
      ]
     },
     "metadata": {
      "needs_background": "light"
     },
     "output_type": "display_data"
    }
   ],
   "source": [
    "#partition data 75/25\n",
    "X_train,X_test,y_train,y_test = train_test_split(X,y,test_size=0.25,random_state=0)\n",
    "clf = RandomForestClassifier(n_estimators=100, random_state=42)\n",
    "clf.fit(X_train,y_train)\n",
    "\n",
    "#predict\n",
    "y_pred=clf.predict(X_test)\n",
    "confusion_matrix = pd.crosstab(y_test, y_pred, rownames=['Actual'], colnames=['Predicted'])\n",
    "sn.heatmap(confusion_matrix, annot=True)\n"
   ]
  },
  {
   "cell_type": "code",
   "execution_count": 23,
   "metadata": {},
   "outputs": [
    {
     "name": "stdout",
     "output_type": "stream",
     "text": [
      "Accuracy:  0.7307692307692307\n"
     ]
    }
   ],
   "source": [
    "print('Accuracy: ',metrics.accuracy_score(y_test, y_pred))\n",
    "#alternative writing print(\"Accuracy on test data: {:.2f}\".format(clf.score(X_test, y_test)))"
   ]
  },
  {
   "cell_type": "code",
   "execution_count": 24,
   "metadata": {},
   "outputs": [],
   "source": [
    "#import matplotlib.pyplot as plt\n",
    "#from sklearn import metrics\n",
    "def roccurve(y_values, y_preds_proba):\n",
    "    fpr, tpr, _ = metrics.roc_curve(y_values, y_preds_proba)\n",
    "    xx = np.arange(101) / float(100)\n",
    "    aur = metrics.auc(fpr,tpr)\n",
    "    plt.xlim(0, 1.0)\n",
    "    plt.ylim(0, 1.25)\n",
    "    plt.plot([0.0, 0.0], [0.0, 1.0], color='green', linewidth=8)\n",
    "    plt.plot([0.0, 1.0], [1.0, 1.0], color='green', label='Perfect Model', linewidth=4)\n",
    "    plt.plot(xx,xx, color='blue', label='Random Model')\n",
    "    plt.plot(fpr,tpr, color='red', label='User Model')\n",
    "    plt.title(\"ROC Curve - AUR value =\"+str(aur))\n",
    "    plt.xlabel('% false positives')\n",
    "    plt.ylabel('% true positives')\n",
    "    plt.legend()\n",
    "    plt.show() \n",
    "    \n",
    "y_pred_proba = clf.predict_proba(X=X_test)"
   ]
  },
  {
   "cell_type": "code",
   "execution_count": 25,
   "metadata": {},
   "outputs": [
    {
     "data": {
      "image/png": "[encoded data removed]",
      "text/plain": [
       "<Figure size 432x288 with 1 Axes>"
      ]
     },
     "metadata": {
      "needs_background": "light"
     },
     "output_type": "display_data"
    }
   ],
   "source": [
    "roccurve(y_values=y_test, y_preds_proba=y_pred_proba[:,1])"
   ]
  },
  {
   "cell_type": "code",
   "execution_count": 26,
   "metadata": {},
   "outputs": [
    {
     "data": {
      "image/png": "[encoded data removed]",
      "text/plain": [
       "<Figure size 432x288 with 1 Axes>"
      ]
     },
     "metadata": {
      "needs_background": "light"
     },
     "output_type": "display_data"
    }
   ],
   "source": [
    "#plot feature importance\n",
    "model_ranks=pd.Series(clf.feature_importances_,index=X_train.columns,name=\"Importance\").sort_values(ascending=True,inplace=False) \n",
    "ax=model_ranks.plot(kind='barh')"
   ]
  },
  {
   "cell_type": "code",
   "execution_count": 27,
   "metadata": {},
   "outputs": [
    {
     "data": {
      "image/png": "[encoded data removed]",
      "text/plain": [
       "<Figure size 864x576 with 2 Axes>"
      ]
     },
     "metadata": {
      "needs_background": "light"
     },
     "output_type": "display_data"
    }
   ],
   "source": [
    "#trade X_train.columns for data.feature_names\n",
    "#Next, we plot the tree based feature importance and the permutation importance. The permutation importance plot shows that permuting a feature drops the accuracy by at most 0.012, which would suggest that none of the features are important. This is in contradiction with the high test accuracy computed above: some feature must be important. The permutation importance is calculated on the training set to show how much the model relies on each feature during training.\n",
    "result = permutation_importance(clf, X_train, y_train, n_repeats=10,random_state=42)\n",
    "perm_sorted_idx = result.importances_mean.argsort()\n",
    "\n",
    "tree_importance_sorted_idx = np.argsort(clf.feature_importances_)\n",
    "tree_indices = np.arange(0, len(clf.feature_importances_)) + 0.5\n",
    "\n",
    "fig, (ax1, ax2) = plt.subplots(1, 2, figsize=(12, 8))\n",
    "ax1.barh(tree_indices,\n",
    "         clf.feature_importances_[tree_importance_sorted_idx], height=0.7)\n",
    "ax1.set_yticklabels(X_train.columns[tree_importance_sorted_idx])\n",
    "ax1.set_yticks(tree_indices)\n",
    "ax1.set_ylim((0, len(clf.feature_importances_)))\n",
    "ax2.boxplot(result.importances[perm_sorted_idx].T, vert=False,\n",
    "            labels=X_train.columns[perm_sorted_idx])\n",
    "fig.tight_layout()\n",
    "plt.show()"
   ]
  },
  {
   "cell_type": "code",
   "execution_count": 28,
   "metadata": {},
   "outputs": [
    {
     "name": "stdout",
     "output_type": "stream",
     "text": [
      "Predicted Result:  [1]\n"
     ]
    }
   ],
   "source": [
    "#predict outcome use the order\n",
    "#Age, gender time etc\n",
    "prediction = clf.predict([[50,1,730,1,0,0,0,0,0,0,0,0]])\n",
    "print ('Predicted Result: ', prediction)"
   ]
  },
  {
   "cell_type": "code",
   "execution_count": 29,
   "metadata": {},
   "outputs": [],
   "source": [
    "# tkinter GUI follow example from https://datatofish.com/random-forest-python/\n",
    "# model created here as illustration\n",
    "root= tk.Tk()\n",
    "\n",
    "canvas1 = tk.Canvas(root, width = 600, height = 400)\n",
    "canvas1.pack()\n",
    "\n",
    "# Age\n",
    "label1 = tk.Label(root, text='Age:')\n",
    "canvas1.create_window(100, 100, window=label1)\n",
    "\n",
    "entry1 = tk.Entry (root)\n",
    "canvas1.create_window(340, 100, window=entry1)\n",
    "\n",
    "# gender\n",
    "label2 = tk.Label(root, text='gender (male=1):     ')\n",
    "canvas1.create_window(120, 120, window=label2)\n",
    "\n",
    "entry2 = tk.Entry (root)\n",
    "canvas1.create_window(340, 120, window=entry2)\n",
    "\n",
    "# time pass\n",
    "label3 = tk.Label(root, text='time_outcome (days): ')\n",
    "canvas1.create_window(140, 140, window=label3)\n",
    "\n",
    "entry3 = tk.Entry (root)\n",
    "canvas1.create_window(340, 140, window=entry3)\n",
    "\n",
    "# Aphasia\n",
    "label4 = tk.Label(root, text='Aphasia (yes=1): ')\n",
    "canvas1.create_window(160, 160, window=label4)\n",
    "\n",
    "entry4 = tk.Entry (root)\n",
    "canvas1.create_window(340, 160, window=entry4)\n",
    "\n",
    "# Extinction\n",
    "label5 = tk.Label(root, text='Extinction (yes=1):   ')\n",
    "canvas1.create_window(180, 180, window=label5)\n",
    "\n",
    "entry5 = tk.Entry (root)\n",
    "canvas1.create_window(340, 180, window=entry5)\n",
    "\n",
    "# Visualfield\n",
    "label6 = tk.Label(root, text='Visualfield (yes=1):   ')\n",
    "canvas1.create_window(200, 200, window=label6)\n",
    "\n",
    "entry6 = tk.Entry (root)\n",
    "canvas1.create_window(340, 200, window=entry6)\n",
    "\n",
    "# Aphasia90\n",
    "label7 = tk.Label(root, text='Aphasia90 (yes=1):    ')\n",
    "canvas1.create_window(220, 220, window=label7)\n",
    "\n",
    "entry7 = tk.Entry (root)\n",
    "canvas1.create_window(340, 220, window=entry7)\n",
    "\n",
    "# Extinction90\n",
    "label8 = tk.Label(root, text='Extinction90 (yes=1):  ')\n",
    "canvas1.create_window(240, 240, window=label8)\n",
    "\n",
    "entry8 = tk.Entry (root)\n",
    "canvas1.create_window(340, 240, window=entry8)\n",
    "\n",
    "# NIHSS\n",
    "label9 = tk.Label(root, text='NIHSS (scale 0-42):   ')\n",
    "canvas1.create_window(260, 260, window=label9)\n",
    "\n",
    "entry9 = tk.Entry (root)\n",
    "canvas1.create_window(340, 260, window=entry9)\n",
    "\n",
    "# NIHSS90\n",
    "label10 = tk.Label(root, text='NIHSS90 (scale 0-42):')\n",
    "canvas1.create_window(280, 280, window=label10)\n",
    "\n",
    "entry10 = tk.Entry (root)\n",
    "canvas1.create_window(340, 280, window=entry10)\n",
    "\n",
    "# Visualfield90\n",
    "label11 = tk.Label(root, text='Visualfield90 (yes=1): ')\n",
    "canvas1.create_window(300, 300, window=label11)\n",
    "\n",
    "entry11 = tk.Entry (root)\n",
    "canvas1.create_window(340, 300, window=entry11)\n",
    "\n",
    "#Rankin90\n",
    "label12 = tk.Label(root, text='Rankin90 (scale 0-6):')\n",
    "canvas1.create_window(320, 320, window=label12)\n",
    "\n",
    "entry12 = tk.Entry (root)\n",
    "canvas1.create_window(340, 320, window=entry12)\n",
    "\n",
    "#Age,gender,time_outcome,Aphasia, Extinction, Visualfield,Aphasia90, Extinction90, NIHSS, NIHSS90, Visualfield90, Rankin90\n",
    "\n",
    "def values(): \n",
    "    global Age\n",
    "    Age = float(entry1.get()) \n",
    "    \n",
    "    global gender\n",
    "    gender = float(entry2.get()) \n",
    "    \n",
    "    global time_outcome\n",
    "    time_outcome = float(entry3.get()) \n",
    "    \n",
    "    global Aphasia\n",
    "    Aphasia = float(entry4.get()) \n",
    "    \n",
    "    global Extinction\n",
    "    Extinction = float(entry5.get())\n",
    "    \n",
    "    global Visualfield\n",
    "    Visualfield = float(entry6.get())\n",
    "    \n",
    "    global Aphasia90\n",
    "    Aphasia90 = float(entry7.get()) \n",
    "    \n",
    "    global Extinction90\n",
    "    Extinction90 = float(entry8.get())\n",
    "    \n",
    "    global NIHSS\n",
    "    NIHSS = float(entry9.get())\n",
    "    \n",
    "    global NIHSS90\n",
    "    NIHSS90 = float(entry10.get()) \n",
    "    \n",
    "    global Visualfield90\n",
    "    Visualfield90 = float(entry11.get())\n",
    "    \n",
    "    global Rankin90\n",
    "    Rankin90 = float(entry12.get())\n",
    "    \n",
    "    Prediction_result  = ('Predicted Result: ', clf.predict([[Age,gender,time_outcome,Aphasia, Extinction, Visualfield,Aphasia90, Extinction90, NIHSS, NIHSS90, Visualfield90, Rankin90]]))\n",
    "    label_Prediction = tk.Label(root, text= Prediction_result, bg='sky blue')\n",
    "    canvas1.create_window(360, 360, window=label_Prediction)\n",
    "    \n",
    "button1 = tk.Button (root, text='Predict',command=values, bg='green', fg='white', font=11)\n",
    "canvas1.create_window(380, 380, window=button1)\n",
    " \n",
    "root.mainloop()"
   ]
  }
 ],
 "metadata": {
  "kernelspec": {
   "display_name": "Python 3",
   "language": "python",
   "name": "python3"
  },
  "language_info": {
   "codemirror_mode": {
    "name": "ipython",
    "version": 3
   },
   "file_extension": ".py",
   "mimetype": "text/x-python",
   "name": "python",
   "nbconvert_exporter": "python",
   "pygments_lexer": "ipython3",
   "version": "3.7.3"
  }
 },
 "nbformat": 4,
 "nbformat_minor": 1
}
