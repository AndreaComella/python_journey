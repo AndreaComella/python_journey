{
 "cells": [
  {
   "cell_type": "code",
   "execution_count": 1,
   "metadata": {},
   "outputs": [],
   "source": [
    "#modify codes from https://acadgild.com/blog/random-forest-algorithm-regression\n",
    "#\n",
    "import numpy as np\n",
    "import pandas as pd\n",
    "%matplotlib inline\n",
    "import matplotlib.pyplot as plt\n",
    "from sklearn.model_selection import train_test_split\n",
    "from sklearn import datasets\n",
    "from sklearn.metrics import mean_squared_error\n",
    "\n",
    "from sklearn.ensemble import RandomForestRegressor\n",
    "import pyreadr #read .Rda file\n",
    "import pyreadstat #read stata"
   ]
  },
  {
   "cell_type": "code",
   "execution_count": 2,
   "metadata": {},
   "outputs": [],
   "source": [
    "##work from Stata file"
   ]
  },
  {
   "cell_type": "code",
   "execution_count": 3,
   "metadata": {},
   "outputs": [],
   "source": [
    "#data from Standfirm trial\n",
    "#dtafile = './goal1.dta'\n",
    "#df, meta = pyreadstat.read_dta(dtafile)\n",
    "#df.head()\n",
    "\n",
    "#data from .Rda\n",
    "#datafile='./newdat261219.train.Rda'\n",
    "#result = pyreadr.read_r(datafile)\n",
    "#result #OrderDict class\n",
    "#print(result.keys()) #odict_keys(['newdat.train'])\n",
    "#newdat.train = result['newdat.train'] # extract the pandas data frame for object df1\n"
   ]
  },
  {
   "cell_type": "code",
   "execution_count": 4,
   "metadata": {},
   "outputs": [],
   "source": [
    "#data \n",
    "dftrain=pd.read_csv(\"newdat261219.train.csv\")\n",
    "dftest=pd.read_csv(\"newdat261219.test.csv\")\n",
    "#dftrain.head()\n",
    "#dftrain.tail()"
   ]
  },
  {
   "cell_type": "code",
   "execution_count": 5,
   "metadata": {},
   "outputs": [],
   "source": [
    "#iloc integer location\n",
    "#X = df.iloc[:,:-1] #row by column, select all columns except remove last column\n",
    "#y = df.iloc[:,-2] #or y = df['SodbyPot'] second last column\n",
    "\n",
    "#create new columns\n",
    "dftrain['changefrs12m'] = dftrain['_12m_frs1']-dftrain['base_frs1']\n",
    "dftest['changefrs12m'] = dftest['_12m_frs1']-dftest['base_frs1']\n",
    "\n",
    "##################\n",
    "#test changefrs12m\n",
    "#poor results\n",
    "##################\n",
    "\n",
    "#drop train\n",
    "#x_training_set = dftrain.drop(['base_frs1','_12m_frs1','changefrs12m'],axis=1) #axis=1 refers to column\n",
    "#y_training_set = dftrain['changefrs12m']\n",
    "#drop test\n",
    "#x_test_set = dftest.drop(['base_frs1','_12m_frs1','changefrs12m'],axis=1) #axis=1 refers to column\n",
    "#y_test_set = dftest['changefrs12m']\n",
    "\n",
    "\n",
    "###########################\n",
    "#test prediction of frs 12m\n",
    "###########################\n",
    "#drop train\n",
    "x_training_set = dftrain.drop(['_12m_frs1','changefrs12m'],axis=1) #axis=1 refers to column\n",
    "y_training_set = dftrain['_12m_frs1']\n",
    "#drop test\n",
    "x_test_set = dftest.drop(['_12m_frs1','changefrs12m'],axis=1) #axis=1 refers to column\n",
    "y_test_set = dftest['_12m_frs1']"
   ]
  },
  {
   "cell_type": "code",
   "execution_count": 6,
   "metadata": {},
   "outputs": [],
   "source": [
    "#Identify the predictor variables and encode any string variables to equivalent integer codes \n",
    "dftrain['Marital_Status'],_ = pd.factorize(dftrain['Marital_Status'])\n",
    "dftrain['LivStat'],_ = pd.factorize(dftrain['LivStat'])\n",
    "dftrain['FluEng'],_ = pd.factorize(dftrain['FluEng'])\n",
    "dftrain['HighEd'],_ = pd.factorize(dftrain['HighEd'])\n",
    "dftrain['Marital_Status'],_ = pd.factorize(dftrain['Marital_Status'])\n",
    "dftrain['SocClass'],_ = pd.factorize(dftrain['SocClass'])\n",
    "dftrain['Male1'],_ = pd.factorize(dftrain['Male1'])\n",
    "dftrain['base_proteinuria'],_ = pd.factorize(dftrain['base_proteinuria'])"
   ]
  },
  {
   "cell_type": "code",
   "execution_count": 7,
   "metadata": {},
   "outputs": [
    {
     "data": {
      "text/plain": [
       "RandomForestRegressor(bootstrap=True, ccp_alpha=0.0, criterion='mse',\n",
       "                      max_depth=None, max_features='auto', max_leaf_nodes=None,\n",
       "                      max_samples=None, min_impurity_decrease=0.0,\n",
       "                      min_impurity_split=None, min_samples_leaf=1,\n",
       "                      min_samples_split=2, min_weight_fraction_leaf=0.0,\n",
       "                      n_estimators=100, n_jobs=None, oob_score=False,\n",
       "                      random_state=0, verbose=0, warm_start=False)"
      ]
     },
     "execution_count": 7,
     "metadata": {},
     "output_type": "execute_result"
    }
   ],
   "source": [
    "n_estimators=100\n",
    "# Fit regression model\n",
    "# Estimate the score on the entire dataset, with no missing values\n",
    "model = RandomForestRegressor(random_state=0, n_estimators=n_estimators)\n",
    "model.fit(x_training_set, y_training_set)"
   ]
  },
  {
   "cell_type": "code",
   "execution_count": 8,
   "metadata": {},
   "outputs": [
    {
     "name": "stdout",
     "output_type": "stream",
     "text": [
      "name                       score\n",
      "base_frs1            0.704963\n",
      "base_CreatExcr       0.0227574\n",
      "base_age             0.0220272\n",
      "base_meanDBP         0.0201375\n",
      "base_Glu             0.0200439\n",
      "base_SBP2            0.0177132\n",
      "base_Weight          0.0156328\n",
      "base_dep             0.013984\n",
      "base_salt_calc       0.013653\n",
      "base_lhs             0.0134158\n",
      "base_Chol            0.0121165\n",
      "SodbyPot             0.0120609\n",
      "base_anx             0.011216\n",
      "Unnamed: 0           0.0110291\n",
      "SocClass             0.0100457\n",
      "base_HbA1c           0.00935582\n",
      "base_SodExcr         0.00883726\n",
      "base_Veg_serves31    0.00868818\n",
      "Marital_Status       0.00782915\n",
      "base_PotExcr         0.00712625\n",
      "HighEd               0.00697253\n",
      "IHDHist38d           0.00438723\n",
      "LivStat              0.00318519\n",
      "base_AlcUse          0.00301652\n",
      "Male1                0.0029659\n",
      "AFHist38f            0.00277135\n",
      "base_proteinuria     0.00276647\n",
      "base_Fruit_serves32  0.00264366\n",
      "StrokeHist           0.00246847\n",
      "CarotStenHist        0.00246278\n",
      "base_Ev_smoke1       0.0011913\n",
      "base_cons2fruit      0.0010804\n",
      "DiabHist38a          0.000983034\n",
      "FluEng               0.000244992\n",
      "PaceHist38h          0.000122094\n",
      "RheumHist38g         0.000105146\n"
     ]
    }
   ],
   "source": [
    "from tabulate import tabulate\n",
    "headers = [\"name\", \"score\"]\n",
    "values = sorted(zip(x_training_set, model.feature_importances_), key=lambda x: x[1] * -1)\n",
    "print(tabulate(values, headers, tablefmt=\"plain\"))\n"
   ]
  },
  {
   "cell_type": "code",
   "execution_count": 9,
   "metadata": {},
   "outputs": [
    {
     "name": "stdout",
     "output_type": "stream",
     "text": [
      "Feature ranking:\n"
     ]
    }
   ],
   "source": [
    "importances = model.feature_importances_\n",
    "std = np.std([model.feature_importances_],\n",
    "             axis=0)\n",
    "indices = np.argsort(importances)[::-1]\n",
    "print(\"Feature ranking:\")"
   ]
  },
  {
   "cell_type": "code",
   "execution_count": 10,
   "metadata": {},
   "outputs": [
    {
     "data": {
      "image/png": "[encoded data removed]",
      "text/plain": [
       "<Figure size 1296x648 with 1 Axes>"
      ]
     },
     "metadata": {
      "needs_background": "light"
     },
     "output_type": "display_data"
    }
   ],
   "source": [
    "plt.figure(figsize=(18,9))\n",
    "plt.title(\"Feature importances\")\n",
    "n=10\n",
    "_ = plt.bar(range(n), importances[indices][:n], color=\"r\", yerr=std[indices][:n])\n",
    "plt.xticks(range(n), indices)\n",
    "plt.xlim([-1, n])\n",
    "plt.show()\n",
    "\n",
    "#plt.barh(range(len(indices)), importances[indices], color='b', align='center')\n",
    "#>>> plt.yticks(range(len(indices)), [features[i] for i in indices])\n",
    "#>>> plt.xlabel('Relative Importance')\n",
    "#>>> plt.show()"
   ]
  },
  {
   "cell_type": "code",
   "execution_count": 11,
   "metadata": {},
   "outputs": [
    {
     "name": "stdout",
     "output_type": "stream",
     "text": [
      "coefficient of determination R^2 of the prediction.:  0.9518084916879863\n",
      "Mean squared error: 141.08\n",
      "Test Variance score: 0.50\n"
     ]
    }
   ],
   "source": [
    "#Model parameters study :\n",
    "#The coefficient R^2 is defined as (1 – u/v), where u is the residual sum of squares ((y_true – y_pred) ** 2).sum() and v is the total sum of squares ((y_true – y_true.mean()) ** 2).sum(). \n",
    "from sklearn.metrics import mean_squared_error, r2_score\n",
    "model_score = model.score(x_training_set,y_training_set)\n",
    "# Have a look at R sq to give an idea of the fit ,\n",
    "# Explained variance score: 1 is perfect prediction\n",
    "print('coefficient of determination R^2 of the prediction.: ',model_score)\n",
    "y_predicted = model.predict(x_test_set)\n",
    "\n",
    "# The mean squared error\n",
    "print(\"Mean squared error: %.2f\"% mean_squared_error(y_test_set, y_predicted))\n",
    "# Explained variance score: 1 is perfect prediction\n",
    "print('Test Variance score: %.2f' % r2_score(y_test_set, y_predicted))\n",
    "\n"
   ]
  },
  {
   "cell_type": "code",
   "execution_count": 12,
   "metadata": {},
   "outputs": [
    {
     "data": {
      "image/png": "[encoded data removed]",
      "text/plain": [
       "<Figure size 432x288 with 1 Axes>"
      ]
     },
     "metadata": {
      "needs_background": "light"
     },
     "output_type": "display_data"
    }
   ],
   "source": [
    "from sklearn.model_selection import cross_val_predict\n",
    "\n",
    "fig, ax = plt.subplots()\n",
    "\n",
    "ax.scatter(y_test_set, y_predicted, edgecolors=(0, 0, 0))\n",
    "\n",
    "ax.plot([y_test_set.min(), y_test_set.max()], [y_test_set.min(), y_test_set.max()], 'k--', lw=4)\n",
    "\n",
    "ax.set_xlabel('Actual')\n",
    "\n",
    "ax.set_ylabel('Predicted')\n",
    "\n",
    "ax.set_title(\"Ground Truth vs Predicted\")\n",
    "\n",
    "plt.show()"
   ]
  },
  {
   "cell_type": "code",
   "execution_count": null,
   "metadata": {},
   "outputs": [],
   "source": []
  }
 ],
 "metadata": {
  "kernelspec": {
   "display_name": "Python 3",
   "language": "python",
   "name": "python3"
  },
  "language_info": {
   "codemirror_mode": {
    "name": "ipython",
    "version": 3
   },
   "file_extension": ".py",
   "mimetype": "text/x-python",
   "name": "python",
   "nbconvert_exporter": "python",
   "pygments_lexer": "ipython3",
   "version": "3.7.3"
  }
 },
 "nbformat": 4,
 "nbformat_minor": 2
}
